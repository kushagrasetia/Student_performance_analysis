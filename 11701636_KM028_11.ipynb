{
 "cells": [
  {
   "cell_type": "code",
   "execution_count": 1,
   "metadata": {},
   "outputs": [],
   "source": [
    "import numpy as np\n",
    "import pandas as pd"
   ]
  },
  {
   "cell_type": "code",
   "execution_count": 2,
   "metadata": {},
   "outputs": [],
   "source": [
    "df=pd.read_excel(r\"C:\\\\Users\\\\dell\\\\Desktop\\\\\\DATA-FINAL.xls\")"
   ]
  },
  {
   "cell_type": "code",
   "execution_count": 3,
   "metadata": {},
   "outputs": [
    {
     "data": {
      "text/html": [
       "<div>\n",
       "<style scoped>\n",
       "    .dataframe tbody tr th:only-of-type {\n",
       "        vertical-align: middle;\n",
       "    }\n",
       "\n",
       "    .dataframe tbody tr th {\n",
       "        vertical-align: top;\n",
       "    }\n",
       "\n",
       "    .dataframe thead th {\n",
       "        text-align: right;\n",
       "    }\n",
       "</style>\n",
       "<table border=\"1\" class=\"dataframe\">\n",
       "  <thead>\n",
       "    <tr style=\"text-align: right;\">\n",
       "      <th></th>\n",
       "      <th>Termid</th>\n",
       "      <th>Regd No</th>\n",
       "      <th>Course</th>\n",
       "      <th>Grade</th>\n",
       "      <th>CA_100</th>\n",
       "      <th>MTT_50</th>\n",
       "      <th>ETT_100</th>\n",
       "      <th>ETP_100</th>\n",
       "      <th>Course_Att</th>\n",
       "      <th>MHRDName</th>\n",
       "      <th>...</th>\n",
       "      <th>CA_3</th>\n",
       "      <th>CA_4</th>\n",
       "      <th>Height</th>\n",
       "      <th>Weight</th>\n",
       "      <th>ScholarType</th>\n",
       "      <th>Direction</th>\n",
       "      <th>Gender</th>\n",
       "      <th>Medium</th>\n",
       "      <th>CourseType</th>\n",
       "      <th>ProgramType</th>\n",
       "    </tr>\n",
       "  </thead>\n",
       "  <tbody>\n",
       "    <tr>\n",
       "      <th>0</th>\n",
       "      <td>318192</td>\n",
       "      <td>1101776</td>\n",
       "      <td>KVY1</td>\n",
       "      <td>O</td>\n",
       "      <td>87.0</td>\n",
       "      <td>39.0</td>\n",
       "      <td>82.0</td>\n",
       "      <td>89.0</td>\n",
       "      <td>88.0</td>\n",
       "      <td>Bachelor of Science (Honours) (Agriculture)</td>\n",
       "      <td>...</td>\n",
       "      <td>1.0</td>\n",
       "      <td>0.0</td>\n",
       "      <td>181</td>\n",
       "      <td>65</td>\n",
       "      <td>Hostler</td>\n",
       "      <td>North</td>\n",
       "      <td>Female</td>\n",
       "      <td>Hindi</td>\n",
       "      <td>Theory</td>\n",
       "      <td>UG</td>\n",
       "    </tr>\n",
       "    <tr>\n",
       "      <th>1</th>\n",
       "      <td>318192</td>\n",
       "      <td>1101776</td>\n",
       "      <td>KVY147</td>\n",
       "      <td>A+</td>\n",
       "      <td>87.0</td>\n",
       "      <td>47.0</td>\n",
       "      <td>65.0</td>\n",
       "      <td>85.0</td>\n",
       "      <td>82.0</td>\n",
       "      <td>Bachelor of Science (Honours) (Agriculture)</td>\n",
       "      <td>...</td>\n",
       "      <td>0.0</td>\n",
       "      <td>1.0</td>\n",
       "      <td>181</td>\n",
       "      <td>65</td>\n",
       "      <td>Hostler</td>\n",
       "      <td>North</td>\n",
       "      <td>Female</td>\n",
       "      <td>Hindi</td>\n",
       "      <td>Theory</td>\n",
       "      <td>UG</td>\n",
       "    </tr>\n",
       "    <tr>\n",
       "      <th>2</th>\n",
       "      <td>318192</td>\n",
       "      <td>1101776</td>\n",
       "      <td>KVY148</td>\n",
       "      <td>B+</td>\n",
       "      <td>84.0</td>\n",
       "      <td>29.0</td>\n",
       "      <td>63.0</td>\n",
       "      <td>77.0</td>\n",
       "      <td>76.0</td>\n",
       "      <td>Bachelor of Science (Honours) (Agriculture)</td>\n",
       "      <td>...</td>\n",
       "      <td>3.0</td>\n",
       "      <td>5.0</td>\n",
       "      <td>181</td>\n",
       "      <td>65</td>\n",
       "      <td>Hostler</td>\n",
       "      <td>North</td>\n",
       "      <td>Female</td>\n",
       "      <td>Hindi</td>\n",
       "      <td>Theory</td>\n",
       "      <td>UG</td>\n",
       "    </tr>\n",
       "    <tr>\n",
       "      <th>3</th>\n",
       "      <td>318192</td>\n",
       "      <td>1101776</td>\n",
       "      <td>KVY2</td>\n",
       "      <td>A+</td>\n",
       "      <td>NaN</td>\n",
       "      <td>NaN</td>\n",
       "      <td>NaN</td>\n",
       "      <td>82.0</td>\n",
       "      <td>74.0</td>\n",
       "      <td>Bachelor of Science (Honours) (Agriculture)</td>\n",
       "      <td>...</td>\n",
       "      <td>NaN</td>\n",
       "      <td>NaN</td>\n",
       "      <td>181</td>\n",
       "      <td>65</td>\n",
       "      <td>Hostler</td>\n",
       "      <td>North</td>\n",
       "      <td>Female</td>\n",
       "      <td>Hindi</td>\n",
       "      <td>Practical</td>\n",
       "      <td>UG</td>\n",
       "    </tr>\n",
       "    <tr>\n",
       "      <th>4</th>\n",
       "      <td>318192</td>\n",
       "      <td>1101776</td>\n",
       "      <td>KVY3</td>\n",
       "      <td>A+</td>\n",
       "      <td>87.0</td>\n",
       "      <td>34.0</td>\n",
       "      <td>68.0</td>\n",
       "      <td>89.0</td>\n",
       "      <td>76.0</td>\n",
       "      <td>Bachelor of Science (Honours) (Agriculture)</td>\n",
       "      <td>...</td>\n",
       "      <td>2.0</td>\n",
       "      <td>17.0</td>\n",
       "      <td>181</td>\n",
       "      <td>65</td>\n",
       "      <td>Hostler</td>\n",
       "      <td>North</td>\n",
       "      <td>Female</td>\n",
       "      <td>Hindi</td>\n",
       "      <td>Theory</td>\n",
       "      <td>UG</td>\n",
       "    </tr>\n",
       "  </tbody>\n",
       "</table>\n",
       "<p>5 rows × 22 columns</p>\n",
       "</div>"
      ],
      "text/plain": [
       "   Termid  Regd No  Course Grade  CA_100  MTT_50  ETT_100  ETP_100  \\\n",
       "0  318192  1101776    KVY1     O    87.0    39.0     82.0     89.0   \n",
       "1  318192  1101776  KVY147    A+    87.0    47.0     65.0     85.0   \n",
       "2  318192  1101776  KVY148    B+    84.0    29.0     63.0     77.0   \n",
       "3  318192  1101776    KVY2    A+     NaN     NaN      NaN     82.0   \n",
       "4  318192  1101776    KVY3    A+    87.0    34.0     68.0     89.0   \n",
       "\n",
       "   Course_Att                                     MHRDName     ...      CA_3  \\\n",
       "0        88.0  Bachelor of Science (Honours) (Agriculture)     ...       1.0   \n",
       "1        82.0  Bachelor of Science (Honours) (Agriculture)     ...       0.0   \n",
       "2        76.0  Bachelor of Science (Honours) (Agriculture)     ...       3.0   \n",
       "3        74.0  Bachelor of Science (Honours) (Agriculture)     ...       NaN   \n",
       "4        76.0  Bachelor of Science (Honours) (Agriculture)     ...       2.0   \n",
       "\n",
       "   CA_4  Height  Weight  ScholarType  Direction  Gender Medium CourseType  \\\n",
       "0   0.0     181      65      Hostler      North  Female  Hindi     Theory   \n",
       "1   1.0     181      65      Hostler      North  Female  Hindi     Theory   \n",
       "2   5.0     181      65      Hostler      North  Female  Hindi     Theory   \n",
       "3   NaN     181      65      Hostler      North  Female  Hindi  Practical   \n",
       "4  17.0     181      65      Hostler      North  Female  Hindi     Theory   \n",
       "\n",
       "  ProgramType  \n",
       "0          UG  \n",
       "1          UG  \n",
       "2          UG  \n",
       "3          UG  \n",
       "4          UG  \n",
       "\n",
       "[5 rows x 22 columns]"
      ]
     },
     "execution_count": 3,
     "metadata": {},
     "output_type": "execute_result"
    }
   ],
   "source": [
    "df.head()"
   ]
  },
  {
   "cell_type": "code",
   "execution_count": 4,
   "metadata": {},
   "outputs": [
    {
     "data": {
      "text/plain": [
       "(65535, 22)"
      ]
     },
     "execution_count": 4,
     "metadata": {},
     "output_type": "execute_result"
    }
   ],
   "source": [
    "df.shape"
   ]
  },
  {
   "cell_type": "code",
   "execution_count": 5,
   "metadata": {},
   "outputs": [
    {
     "data": {
      "text/plain": [
       "65535"
      ]
     },
     "execution_count": 5,
     "metadata": {},
     "output_type": "execute_result"
    }
   ],
   "source": [
    "df.shape[0]"
   ]
  },
  {
   "cell_type": "code",
   "execution_count": 6,
   "metadata": {},
   "outputs": [
    {
     "data": {
      "text/plain": [
       "22"
      ]
     },
     "execution_count": 6,
     "metadata": {},
     "output_type": "execute_result"
    }
   ],
   "source": [
    "df.shape[1]"
   ]
  },
  {
   "cell_type": "code",
   "execution_count": 7,
   "metadata": {},
   "outputs": [
    {
     "data": {
      "text/html": [
       "<div>\n",
       "<style scoped>\n",
       "    .dataframe tbody tr th:only-of-type {\n",
       "        vertical-align: middle;\n",
       "    }\n",
       "\n",
       "    .dataframe tbody tr th {\n",
       "        vertical-align: top;\n",
       "    }\n",
       "\n",
       "    .dataframe thead th {\n",
       "        text-align: right;\n",
       "    }\n",
       "</style>\n",
       "<table border=\"1\" class=\"dataframe\">\n",
       "  <thead>\n",
       "    <tr style=\"text-align: right;\">\n",
       "      <th></th>\n",
       "      <th>Termid</th>\n",
       "      <th>Regd No</th>\n",
       "      <th>CA_100</th>\n",
       "      <th>MTT_50</th>\n",
       "      <th>ETT_100</th>\n",
       "      <th>ETP_100</th>\n",
       "      <th>Course_Att</th>\n",
       "      <th>CA_1</th>\n",
       "      <th>CA_2</th>\n",
       "      <th>CA_3</th>\n",
       "      <th>CA_4</th>\n",
       "      <th>Height</th>\n",
       "      <th>Weight</th>\n",
       "    </tr>\n",
       "  </thead>\n",
       "  <tbody>\n",
       "    <tr>\n",
       "      <th>count</th>\n",
       "      <td>65535.000000</td>\n",
       "      <td>6.553500e+04</td>\n",
       "      <td>62969.000000</td>\n",
       "      <td>38414.000000</td>\n",
       "      <td>39699.000000</td>\n",
       "      <td>29644.000000</td>\n",
       "      <td>59454.000000</td>\n",
       "      <td>62969.000000</td>\n",
       "      <td>62969.000000</td>\n",
       "      <td>62969.000000</td>\n",
       "      <td>62969.000000</td>\n",
       "      <td>65535.000000</td>\n",
       "      <td>65535.000000</td>\n",
       "    </tr>\n",
       "    <tr>\n",
       "      <th>mean</th>\n",
       "      <td>288099.682918</td>\n",
       "      <td>8.450856e+06</td>\n",
       "      <td>63.772317</td>\n",
       "      <td>26.110637</td>\n",
       "      <td>52.052470</td>\n",
       "      <td>67.181892</td>\n",
       "      <td>81.046692</td>\n",
       "      <td>31.961918</td>\n",
       "      <td>15.926504</td>\n",
       "      <td>7.937985</td>\n",
       "      <td>7.945910</td>\n",
       "      <td>167.077134</td>\n",
       "      <td>70.074922</td>\n",
       "    </tr>\n",
       "    <tr>\n",
       "      <th>std</th>\n",
       "      <td>84391.200813</td>\n",
       "      <td>4.155810e+06</td>\n",
       "      <td>23.809873</td>\n",
       "      <td>11.811316</td>\n",
       "      <td>22.972317</td>\n",
       "      <td>22.770638</td>\n",
       "      <td>17.960987</td>\n",
       "      <td>23.197636</td>\n",
       "      <td>16.421255</td>\n",
       "      <td>10.651955</td>\n",
       "      <td>10.654228</td>\n",
       "      <td>10.138942</td>\n",
       "      <td>17.785183</td>\n",
       "    </tr>\n",
       "    <tr>\n",
       "      <th>min</th>\n",
       "      <td>118192.000000</td>\n",
       "      <td>1.101776e+06</td>\n",
       "      <td>0.000000</td>\n",
       "      <td>0.000000</td>\n",
       "      <td>0.000000</td>\n",
       "      <td>0.000000</td>\n",
       "      <td>0.000000</td>\n",
       "      <td>0.000000</td>\n",
       "      <td>0.000000</td>\n",
       "      <td>0.000000</td>\n",
       "      <td>0.000000</td>\n",
       "      <td>150.000000</td>\n",
       "      <td>40.000000</td>\n",
       "    </tr>\n",
       "    <tr>\n",
       "      <th>25%</th>\n",
       "      <td>218192.000000</td>\n",
       "      <td>4.875776e+06</td>\n",
       "      <td>54.000000</td>\n",
       "      <td>19.000000</td>\n",
       "      <td>40.000000</td>\n",
       "      <td>61.000000</td>\n",
       "      <td>76.000000</td>\n",
       "      <td>12.000000</td>\n",
       "      <td>3.000000</td>\n",
       "      <td>1.000000</td>\n",
       "      <td>1.000000</td>\n",
       "      <td>158.000000</td>\n",
       "      <td>55.000000</td>\n",
       "    </tr>\n",
       "    <tr>\n",
       "      <th>50%</th>\n",
       "      <td>318192.000000</td>\n",
       "      <td>8.474776e+06</td>\n",
       "      <td>69.000000</td>\n",
       "      <td>28.000000</td>\n",
       "      <td>56.000000</td>\n",
       "      <td>73.000000</td>\n",
       "      <td>85.000000</td>\n",
       "      <td>29.000000</td>\n",
       "      <td>10.000000</td>\n",
       "      <td>4.000000</td>\n",
       "      <td>4.000000</td>\n",
       "      <td>167.000000</td>\n",
       "      <td>70.000000</td>\n",
       "    </tr>\n",
       "    <tr>\n",
       "      <th>75%</th>\n",
       "      <td>318192.000000</td>\n",
       "      <td>1.203578e+07</td>\n",
       "      <td>81.000000</td>\n",
       "      <td>35.000000</td>\n",
       "      <td>68.000000</td>\n",
       "      <td>82.000000</td>\n",
       "      <td>93.000000</td>\n",
       "      <td>49.000000</td>\n",
       "      <td>24.000000</td>\n",
       "      <td>11.000000</td>\n",
       "      <td>11.000000</td>\n",
       "      <td>176.000000</td>\n",
       "      <td>85.000000</td>\n",
       "    </tr>\n",
       "    <tr>\n",
       "      <th>max</th>\n",
       "      <td>718192.000000</td>\n",
       "      <td>1.543278e+07</td>\n",
       "      <td>100.000000</td>\n",
       "      <td>50.000000</td>\n",
       "      <td>100.000000</td>\n",
       "      <td>100.000000</td>\n",
       "      <td>100.000000</td>\n",
       "      <td>100.000000</td>\n",
       "      <td>94.000000</td>\n",
       "      <td>89.000000</td>\n",
       "      <td>87.000000</td>\n",
       "      <td>184.000000</td>\n",
       "      <td>100.000000</td>\n",
       "    </tr>\n",
       "  </tbody>\n",
       "</table>\n",
       "</div>"
      ],
      "text/plain": [
       "              Termid       Regd No        CA_100        MTT_50       ETT_100  \\\n",
       "count   65535.000000  6.553500e+04  62969.000000  38414.000000  39699.000000   \n",
       "mean   288099.682918  8.450856e+06     63.772317     26.110637     52.052470   \n",
       "std     84391.200813  4.155810e+06     23.809873     11.811316     22.972317   \n",
       "min    118192.000000  1.101776e+06      0.000000      0.000000      0.000000   \n",
       "25%    218192.000000  4.875776e+06     54.000000     19.000000     40.000000   \n",
       "50%    318192.000000  8.474776e+06     69.000000     28.000000     56.000000   \n",
       "75%    318192.000000  1.203578e+07     81.000000     35.000000     68.000000   \n",
       "max    718192.000000  1.543278e+07    100.000000     50.000000    100.000000   \n",
       "\n",
       "            ETP_100    Course_Att          CA_1          CA_2          CA_3  \\\n",
       "count  29644.000000  59454.000000  62969.000000  62969.000000  62969.000000   \n",
       "mean      67.181892     81.046692     31.961918     15.926504      7.937985   \n",
       "std       22.770638     17.960987     23.197636     16.421255     10.651955   \n",
       "min        0.000000      0.000000      0.000000      0.000000      0.000000   \n",
       "25%       61.000000     76.000000     12.000000      3.000000      1.000000   \n",
       "50%       73.000000     85.000000     29.000000     10.000000      4.000000   \n",
       "75%       82.000000     93.000000     49.000000     24.000000     11.000000   \n",
       "max      100.000000    100.000000    100.000000     94.000000     89.000000   \n",
       "\n",
       "               CA_4        Height        Weight  \n",
       "count  62969.000000  65535.000000  65535.000000  \n",
       "mean       7.945910    167.077134     70.074922  \n",
       "std       10.654228     10.138942     17.785183  \n",
       "min        0.000000    150.000000     40.000000  \n",
       "25%        1.000000    158.000000     55.000000  \n",
       "50%        4.000000    167.000000     70.000000  \n",
       "75%       11.000000    176.000000     85.000000  \n",
       "max       87.000000    184.000000    100.000000  "
      ]
     },
     "execution_count": 7,
     "metadata": {},
     "output_type": "execute_result"
    }
   ],
   "source": [
    "df.describe()"
   ]
  },
  {
   "cell_type": "code",
   "execution_count": 8,
   "metadata": {},
   "outputs": [
    {
     "data": {
      "text/plain": [
       "Index(['Termid', 'Regd No', 'Course', 'Grade', 'CA_100', 'MTT_50', 'ETT_100',\n",
       "       'ETP_100', 'Course_Att', 'MHRDName', 'CA_1', 'CA_2', 'CA_3', 'CA_4',\n",
       "       'Height', 'Weight', 'ScholarType', 'Direction', 'Gender', 'Medium',\n",
       "       'CourseType', 'ProgramType'],\n",
       "      dtype='object')"
      ]
     },
     "execution_count": 8,
     "metadata": {},
     "output_type": "execute_result"
    }
   ],
   "source": [
    "df.columns"
   ]
  },
  {
   "cell_type": "code",
   "execution_count": 9,
   "metadata": {},
   "outputs": [
    {
     "data": {
      "text/plain": [
       "['Bachelor of Architecture',\n",
       " 'Bachelor of Computer Application-Master of Computer Applications(Integrated)',\n",
       " 'Bachelor of Computer Applications',\n",
       " 'Bachelor of Planning (Urban Planning)',\n",
       " 'Bachelor of Planning (Urban)',\n",
       " 'Bachelor of Science (Biotechnology)',\n",
       " 'Bachelor of Science (Computer Science)',\n",
       " 'Bachelor of Science (Forensic Science)',\n",
       " 'Bachelor of Science (Honours) (Agriculture)',\n",
       " 'Bachelor of Science (Honours) (Agriculture) ',\n",
       " 'Bachelor of Science (Honours) (Botany)',\n",
       " 'Bachelor of Science (Honours) (Chemistry )',\n",
       " 'Bachelor of Science (Honours) (Chemistry)',\n",
       " 'Bachelor of Science (Honours) (Food Technology)',\n",
       " 'Bachelor of Science (Honours) (Mathematics)',\n",
       " 'Bachelor of Science (Honours) (Mathematics) ',\n",
       " 'Bachelor of Science (Honours) (Microbiology)',\n",
       " 'Bachelor of Science (Honours) (Physics)',\n",
       " 'Bachelor of Science (Honours) (Zoology)',\n",
       " 'Bachelor of Science (Information Technology)',\n",
       " 'Bachelor of Science (Medical)',\n",
       " 'Bachelor of Science (Microbiology)',\n",
       " 'Bachelor of Science (Non-Medical)',\n",
       " 'Bachelor of Science (Nutrition and Dietetics)',\n",
       " 'Bachelor of Science - Master of Science in Biotechnology (Integrated)',\n",
       " 'Bachelor of Science - Master of Science in Mathematics (Integrated)',\n",
       " 'Bachelor of Science in Agriculture (Honours)',\n",
       " 'Bachelor of Technology (Aerospace Engineering)',\n",
       " 'Bachelor of Technology (Automobile Engineering)',\n",
       " 'Bachelor of Technology (Biomedical Engineering)',\n",
       " 'Bachelor of Technology (Biotechnology)',\n",
       " 'Bachelor of Technology (Chemical Engineering)',\n",
       " 'Bachelor of Technology (Civil Engineering)',\n",
       " 'Bachelor of Technology (Computer Science and Engineering)',\n",
       " 'Bachelor of Technology (Electrical Engineering)',\n",
       " 'Bachelor of Technology (Electrical and Electronics Engineering)',\n",
       " 'Bachelor of Technology (Electronics and Communication Engineering)',\n",
       " 'Bachelor of Technology (Electronics and Computer Engineering)',\n",
       " 'Bachelor of Technology (Food Technology)',\n",
       " 'Bachelor of Technology (Information Technology)',\n",
       " 'Bachelor of Technology (Mechanical Engineering)',\n",
       " 'Bachelor of Technology (Petroleum Engineering)',\n",
       " 'Bachelor of Technology - Master of Technology in Biotechnology (Integrated)',\n",
       " 'Bachelor of Technology - Master of Technology in Civil Engineering (Integrated)',\n",
       " 'Bachelor of Technology in Automobile Engineering',\n",
       " 'Bachelor of Technology in Biotechnology',\n",
       " 'Bachelor of Technology in Biotechnology - Master of Business Administration (Integrated)',\n",
       " 'Bachelor of Technology in Civil Engineering',\n",
       " 'Bachelor of Technology in Computer Science and Engineering',\n",
       " 'Bachelor of Technology in Computer Science and Engineering (Android Application Development)',\n",
       " 'Bachelor of Technology in Computer Science and Engineering (Big Data)',\n",
       " 'Bachelor of Technology in Computer Science and Engineering (Cloud Computing)',\n",
       " 'Bachelor of Technology in Computer Science and Engineering (Cyber Security)',\n",
       " 'Bachelor of Technology in Computer Science and Engineering (Data Science)',\n",
       " 'Bachelor of Technology in Computer Science and Engineering (Full Stack Web Developer)',\n",
       " 'Bachelor of Technology in Computer Science and Engineering (Machine Learning)',\n",
       " 'Bachelor of Technology in Electrical Engineering',\n",
       " 'Bachelor of Technology in Electrical and Electronics Engineering',\n",
       " 'Bachelor of Technology in Electronics and Communication Engineering',\n",
       " 'Bachelor of Technology in Electronics and Communication Engineering (Embedded System)',\n",
       " 'Bachelor of Technology in Electronics and Communication Engineering (Internet of Things)',\n",
       " 'Bachelor of Technology in Information Technology',\n",
       " 'Bachelor of Technology in Mechanical Engineering',\n",
       " 'Bachelor of Technology in Mechanical Engineering (Robotics and Mechatronics)',\n",
       " 'Diploma in Agriculture',\n",
       " 'Diploma in Architectural Assistantship',\n",
       " 'Diploma in Automobile Engineering',\n",
       " 'Diploma in Civil Engineering',\n",
       " 'Diploma in Computer Science Engineering',\n",
       " 'Diploma in Computer Science and Engineering',\n",
       " 'Diploma in Electrical Engineering',\n",
       " 'Diploma in Electronics and Communication Engineering',\n",
       " 'Diploma in Information Technology',\n",
       " 'Diploma in Mechanical Engineering',\n",
       " 'Dual Degree Bachelor of Technology (Civil Engineering) - Master of Business Administration',\n",
       " 'Dual Degree Bachelor of Technology (Computer Science and Engineering) - Master of Business Administration',\n",
       " 'Dual Degree Bachelor of Technology - Master of Technology (Computer Science and Engineering)',\n",
       " 'Dual Degree Bachelor of Technology - Master of Technology (Mechanical Engineering)',\n",
       " 'Integrated Bachelor of Science - Master of Science (Biotechnology)',\n",
       " 'Integrated Bachelor of Science - Master of Science (Botany)',\n",
       " 'Integrated Bachelor of Science - Master of Science (Chemistry)',\n",
       " 'Integrated Bachelor of Science - Master of Science (Mathematics)',\n",
       " 'Integrated Bachelor of Science - Master of Science (Microbiology)',\n",
       " 'Integrated Bachelor of Science - Master of Science (Physics)',\n",
       " 'Integrated Bachelor of Science - Master of Science (Zoology)',\n",
       " 'Integrated Bachelor of Technology (Biotechnology) - Master of Business Administration',\n",
       " 'Integrated Bachelor of Technology (Computer Science and Engineering) - Master of Business Administration',\n",
       " 'Integrated Bachelor of Technology (Electrical and Electronics Engineering) - Master of Business Administration',\n",
       " 'Integrated Bachelor of Technology (Mechanical Engineering) - Master of Business Administration',\n",
       " 'Integrated Bachelor of Technology - Master of Technology (Biotechnology)',\n",
       " 'Integrated Bachelor of Technology - Master of Technology (Civil Engineering)',\n",
       " 'Integrated Bachelor of Technology - Master of Technology (Computer Science and Engineering)',\n",
       " 'Integrated Bachelor of Technology - Master of Technology (Electronics and Communication Engineering)',\n",
       " 'Integrated Bachelor of Technology - Master of Technology (Mechanical Engineering)',\n",
       " 'Master of Computer Applications',\n",
       " 'Master of Computer Applications (2 Year programme)',\n",
       " 'Master of Planning (Urban Planning)',\n",
       " 'Master of Planning (Urban)',\n",
       " 'Master of Science (Biotechnology)',\n",
       " 'Master of Science (Botany)',\n",
       " 'Master of Science (Chemistry)',\n",
       " 'Master of Science (Computer Science)',\n",
       " 'Master of Science (Food Science and Technology)',\n",
       " 'Master of Science (Honours) (Biochemistry)',\n",
       " 'Master of Science (Information Technology)',\n",
       " 'Master of Science (Mathematics)',\n",
       " 'Master of Science (Microbiology)',\n",
       " 'Master of Science (Nutrition and Dietetics)',\n",
       " 'Master of Science (Physics)',\n",
       " 'Master of Science (Zoology)',\n",
       " 'Master of Science Ag. (Agronomy)',\n",
       " 'Master of Science Ag. (Entomology)',\n",
       " 'Master of Science Ag. (Genetics and Plant Breeding)',\n",
       " 'Master of Science Ag. (Plant Pathology)',\n",
       " 'Master of Science Ag. (Soil Science and Agriculture Chemistry)',\n",
       " 'Master of Science Ag. Horticulture (Fruit Science)',\n",
       " 'Master of Science Ag. Horticulture (Vegetable Science)',\n",
       " 'Master of Science in Agriculture (Genetics and Plant Breeding)',\n",
       " 'Master of Science in Agriculture (Soil Science and Agriculture Chemistry)',\n",
       " 'Master of Science in Agriculture Horticulture (Fruit Science)',\n",
       " 'Master of Sciences (Forensic Science)',\n",
       " 'Master of Technology (Automobile Engineering)',\n",
       " 'Master of Technology (Civil Engineering)',\n",
       " 'Master of Technology (Computer Science and Engineering)',\n",
       " 'Master of Technology (Construction Management)',\n",
       " 'Master of Technology (Electrical Engineering)',\n",
       " 'Master of Technology (Electronics and Communication Engineering)',\n",
       " 'Master of Technology (Food Technology)',\n",
       " 'Master of Technology (Geotechnical Engineering)',\n",
       " 'Master of Technology (Manufacturing Engineering)',\n",
       " 'Master of Technology (Power Systems)',\n",
       " 'Master of Technology (Structural Engineering)',\n",
       " 'Master of Technology (Thermal Engineering)',\n",
       " 'Master of Technology (Transportation Engineering)',\n",
       " 'Master of Technology (VLSI Design)']"
      ]
     },
     "execution_count": 9,
     "metadata": {},
     "output_type": "execute_result"
    }
   ],
   "source": [
    "sorted(df['MHRDName'].unique())"
   ]
  },
  {
   "cell_type": "code",
   "execution_count": 10,
   "metadata": {},
   "outputs": [
    {
     "data": {
      "text/plain": [
       "(4900, 22)"
      ]
     },
     "execution_count": 10,
     "metadata": {},
     "output_type": "execute_result"
    }
   ],
   "source": [
    "data=df[df['MHRDName']=='Bachelor of Technology (Computer Science and Engineering)']\n",
    "data.shape"
   ]
  },
  {
   "cell_type": "code",
   "execution_count": 11,
   "metadata": {},
   "outputs": [],
   "source": [
    "data1=(df[df['MHRDName']=='Bachelor of Technology in Computer Science and Engineering'])\n",
    "data=data.append(data1)\n",
    "\n",
    "data1=(df[df['MHRDName']=='Bachelor of Technology in Computer Science and Engineering (Android Application Development)'])\n",
    "data=data.append(data1)\n",
    "\n",
    "data1=(df[df['MHRDName']=='Bachelor of Technology in Mechanical Engineering (Big Data)'])\n",
    "data=data.append(data1)\n",
    "\n",
    "data1=(df[df['MHRDName']=='Bachelor of Technology in Mechanical Engineering (Cloud Computing)'])\n",
    "data=data.append(data1)\n",
    "\n",
    "data1=(df[df['MHRDName']=='Bachelor of Technology in Mechanical Engineering (Cyber Security)'])\n",
    "data=data.append(data1)\n",
    "\n",
    "data1=(df[df['MHRDName']=='Bachelor of Technology in Mechanical Engineering (Data Science)'])\n",
    "data=data.append(data1)\n",
    "\n",
    "data1=(df[df['MHRDName']=='Bachelor of Technology in Mechanical Engineering (Full Stack Web Developer)'])\n",
    "data=data.append(data1)\n",
    "\n",
    "data1=(df[df['MHRDName']=='Bachelor of Technology in Mechanical Engineering (Machine Learning)'])\n",
    "data=data.append(data1)"
   ]
  },
  {
   "cell_type": "markdown",
   "metadata": {},
   "source": [
    "# DATA PREPROCESSING"
   ]
  },
  {
   "cell_type": "code",
   "execution_count": 12,
   "metadata": {},
   "outputs": [
    {
     "data": {
      "text/plain": [
       "(9321, 22)"
      ]
     },
     "execution_count": 12,
     "metadata": {},
     "output_type": "execute_result"
    }
   ],
   "source": [
    "data.shape"
   ]
  },
  {
   "cell_type": "code",
   "execution_count": 13,
   "metadata": {},
   "outputs": [
    {
     "data": {
      "text/plain": [
       "Termid            0\n",
       "Regd No           0\n",
       "Course            0\n",
       "Grade             0\n",
       "CA_100          487\n",
       "MTT_50         4247\n",
       "ETT_100        4099\n",
       "ETP_100        5222\n",
       "Course_Att     1026\n",
       "MHRDName          0\n",
       "CA_1            487\n",
       "CA_2            487\n",
       "CA_3            487\n",
       "CA_4            487\n",
       "Height            0\n",
       "Weight            0\n",
       "ScholarType       0\n",
       "Direction         0\n",
       "Gender            0\n",
       "Medium            0\n",
       "CourseType        0\n",
       "ProgramType       0\n",
       "dtype: int64"
      ]
     },
     "execution_count": 13,
     "metadata": {},
     "output_type": "execute_result"
    }
   ],
   "source": [
    "#Checking the Null values\n",
    "data.isnull().sum()"
   ]
  },
  {
   "cell_type": "code",
   "execution_count": 14,
   "metadata": {},
   "outputs": [
    {
     "name": "stdout",
     "output_type": "stream",
     "text": [
      "Index(['Termid', 'Regd No', 'CA_100', 'MTT_50', 'ETT_100', 'ETP_100',\n",
      "       'Course_Att', 'CA_1', 'CA_2', 'CA_3', 'CA_4', 'Height', 'Weight'],\n",
      "      dtype='object')\n"
     ]
    }
   ],
   "source": [
    "cols1=data._get_numeric_data().columns\n",
    "cols2=df.columns\n",
    "print(cols1)"
   ]
  },
  {
   "cell_type": "code",
   "execution_count": 15,
   "metadata": {},
   "outputs": [],
   "source": [
    "c1=['Termid', 'Regd No', 'CA_100', 'MTT_50', 'ETT_100', 'ETP_100',\n",
    "       'Course_Att', 'CA_1', 'CA_2', 'CA_3', 'CA_4', 'Height', 'Weight']\n",
    "c2=['Termid', 'Regd No', 'Course', 'Grade', 'CA_100', 'MTT_50', 'ETT_100',\n",
    "       'ETP_100', 'Course_Att', 'MHRDName', 'CA_1', 'CA_2', 'CA_3', 'CA_4',\n",
    "       'Height', 'Weight', 'ScholarType', 'Direction', 'Gender', 'Medium',\n",
    "       'CourseType', 'ProgramType']"
   ]
  },
  {
   "cell_type": "code",
   "execution_count": 16,
   "metadata": {},
   "outputs": [
    {
     "name": "stdout",
     "output_type": "stream",
     "text": [
      "ScholarType    0\n",
      "Medium         0\n",
      "Direction      0\n",
      "MHRDName       0\n",
      "ProgramType    0\n",
      "Course         0\n",
      "Grade          0\n",
      "Gender         0\n",
      "CourseType     0\n",
      "dtype: int64\n"
     ]
    }
   ],
   "source": [
    "#Categorical Features\n",
    "c3=list(set(c2)-set(c1))\n",
    "print(data[c3].isnull().sum())"
   ]
  },
  {
   "cell_type": "code",
   "execution_count": 20,
   "metadata": {},
   "outputs": [
    {
     "name": "stdout",
     "output_type": "stream",
     "text": [
      "Termid         0\n",
      "Regd No        0\n",
      "Course         0\n",
      "Grade          0\n",
      "CA_100         0\n",
      "MTT_50         0\n",
      "ETT_100        0\n",
      "ETP_100        0\n",
      "Course_Att     0\n",
      "MHRDName       0\n",
      "CA_1           0\n",
      "CA_2           0\n",
      "CA_3           0\n",
      "CA_4           0\n",
      "Height         0\n",
      "Weight         0\n",
      "ScholarType    0\n",
      "Direction      0\n",
      "Gender         0\n",
      "Medium         0\n",
      "CourseType     0\n",
      "ProgramType    0\n",
      "dtype: int64\n"
     ]
    }
   ],
   "source": [
    "#Handling with the Null valued Columns: By replacing with the Mean of the column\n",
    "from sklearn.impute import SimpleImputer\n",
    "sm=SimpleImputer(strategy='mean',missing_values=np.nan)\n",
    "\n",
    "for i in c1:\n",
    "    data[i]=sm.fit_transform(data[[i]].values)\n",
    "print(data.isnull().sum())"
   ]
  },
  {
   "cell_type": "code",
   "execution_count": 21,
   "metadata": {},
   "outputs": [
    {
     "data": {
      "text/plain": [
       "array(['A', 'A+', 'B+', 'O', 'B', 'E', 'C', 'D', 'F', 'R', 'M', 'I'],\n",
       "      dtype=object)"
      ]
     },
     "execution_count": 21,
     "metadata": {},
     "output_type": "execute_result"
    }
   ],
   "source": [
    "data['Grade'].unique()"
   ]
  },
  {
   "cell_type": "markdown",
   "metadata": {},
   "source": [
    "# LABEL ENCODING"
   ]
  },
  {
   "cell_type": "code",
   "execution_count": 22,
   "metadata": {},
   "outputs": [],
   "source": [
    "#Label encoding of grade without using library\n",
    "grade_map={'O':100,'A+':90,'A':80,'B+':70,'B':60,'C':50,'D':40,'E':30,'F':20,'I':10,'M':0,'R':0}"
   ]
  },
  {
   "cell_type": "code",
   "execution_count": 23,
   "metadata": {},
   "outputs": [
    {
     "data": {
      "text/plain": [
       "38        80\n",
       "39        90\n",
       "40        80\n",
       "41        80\n",
       "42        70\n",
       "43        70\n",
       "44        70\n",
       "45        80\n",
       "46       100\n",
       "369       80\n",
       "370       80\n",
       "371       90\n",
       "372       70\n",
       "373       60\n",
       "374       80\n",
       "375       60\n",
       "376       80\n",
       "377       70\n",
       "439      100\n",
       "440      100\n",
       "441       90\n",
       "442      100\n",
       "443      100\n",
       "444       90\n",
       "445      100\n",
       "446       80\n",
       "447       90\n",
       "476       80\n",
       "477       80\n",
       "478       90\n",
       "        ... \n",
       "64921     60\n",
       "64922     30\n",
       "64923     70\n",
       "64924     60\n",
       "64943     70\n",
       "64944     60\n",
       "64945     70\n",
       "64946     50\n",
       "64947     70\n",
       "64948     70\n",
       "64949     40\n",
       "64950     80\n",
       "64951     50\n",
       "65029     60\n",
       "65030     70\n",
       "65031     50\n",
       "65032     80\n",
       "65033     90\n",
       "65034     50\n",
       "65035     70\n",
       "65036     50\n",
       "65203     90\n",
       "65204     40\n",
       "65205     70\n",
       "65206     40\n",
       "65207     70\n",
       "65208     50\n",
       "65209     70\n",
       "65210     60\n",
       "65211     30\n",
       "Name: Grade, Length: 9321, dtype: int64"
      ]
     },
     "execution_count": 23,
     "metadata": {},
     "output_type": "execute_result"
    }
   ],
   "source": [
    "data['Grade']=data['Grade'].map(grade_map)\n",
    "data['Grade']"
   ]
  },
  {
   "cell_type": "code",
   "execution_count": 24,
   "metadata": {},
   "outputs": [],
   "source": [
    "courses=data['Course']"
   ]
  },
  {
   "cell_type": "code",
   "execution_count": 25,
   "metadata": {},
   "outputs": [],
   "source": [
    "#Label Encoding the Course feature using library\n",
    "from sklearn.preprocessing import LabelEncoder\n",
    "le=LabelEncoder() \n",
    "data['Course']=le.fit_transform(data['Course'])"
   ]
  },
  {
   "cell_type": "code",
   "execution_count": 26,
   "metadata": {},
   "outputs": [],
   "source": [
    "dd=np.array(pd.DataFrame(data.groupby(\"Course\",as_index=False)['Grade'].mean()))\n",
    "di={}\n",
    "for p in dd:\n",
    "    di[p[0]]=p[1]\n",
    "data['Strength']=data['Course'].map(di)"
   ]
  },
  {
   "cell_type": "code",
   "execution_count": 27,
   "metadata": {},
   "outputs": [
    {
     "data": {
      "text/plain": [
       "<Figure size 1250x1250 with 30 Axes>"
      ]
     },
     "metadata": {},
     "output_type": "display_data"
    }
   ],
   "source": [
    "\n",
    "import matplotlib.pyplot as plt\n",
    "import seaborn as sns\n",
    "li=['Course','CA_100','ETT_100','MTT_50','Strength']\n",
    "X=data[li]  \n",
    "sns.pairplot(X)\n",
    "plt.show()"
   ]
  },
  {
   "cell_type": "code",
   "execution_count": 28,
   "metadata": {},
   "outputs": [
    {
     "name": "stdout",
     "output_type": "stream",
     "text": [
      "(6991, 5)\n",
      "(2330, 5)\n"
     ]
    }
   ],
   "source": [
    "#Splitting the data into train and test\n",
    "X_train=X.sample(frac=0.75)\n",
    "X_test = X.loc[~data.index.isin(X_train.index), :]\n",
    "print(X_train.shape)\n",
    "print(X_test.shape)"
   ]
  },
  {
   "cell_type": "markdown",
   "metadata": {},
   "source": [
    "# KMEANS CLUSTERING "
   ]
  },
  {
   "cell_type": "code",
   "execution_count": 29,
   "metadata": {},
   "outputs": [],
   "source": [
    "from sklearn.cluster import KMeans\n",
    "km=KMeans(n_clusters=3,max_iter=500,tol=0.001)\n",
    "y_km=km.fit_predict(X_train)"
   ]
  },
  {
   "cell_type": "code",
   "execution_count": 30,
   "metadata": {},
   "outputs": [
    {
     "data": {
      "image/png": "[encoded data removed]",
      "text/plain": [
       "<Figure size 432x288 with 1 Axes>"
      ]
     },
     "metadata": {},
     "output_type": "display_data"
    }
   ],
   "source": [
    "#Plotting the data which fall into their respective clusters\n",
    "pp=np.array(X_train)\n",
    "plt.scatter(pp[y_km==0,0],pp[y_km==0,1],c='red',marker='s',label='GRADE O')\n",
    "plt.scatter(pp[y_km==1,0],pp[y_km==1,1],c='green',marker='o',label='GRADE A')\n",
    "plt.scatter(pp[y_km==2,0],pp[y_km==2,1],c='blue',marker='*',label='GRADE B')\n",
    "plt.legend()\n",
    "plt.grid()\n",
    "plt.show()\n"
   ]
  },
  {
   "cell_type": "code",
   "execution_count": 31,
   "metadata": {},
   "outputs": [
    {
     "data": {
      "text/plain": [
       "array([1, 1, 1, ..., 1, 1, 1])"
      ]
     },
     "execution_count": 31,
     "metadata": {},
     "output_type": "execute_result"
    }
   ],
   "source": [
    "y_km"
   ]
  },
  {
   "cell_type": "code",
   "execution_count": 32,
   "metadata": {},
   "outputs": [
    {
     "data": {
      "text/plain": [
       "array([[ 49.1412615 ,  60.48144845,  50.93223228,  25.76035736,\n",
       "         67.64205544],\n",
       "       [215.57233907,  62.39220353,  50.85324456,  25.92812437,\n",
       "         68.90160131],\n",
       "       [ 96.64650365,  62.23389342,  49.45349732,  25.3491158 ,\n",
       "         67.90981165]])"
      ]
     },
     "execution_count": 32,
     "metadata": {},
     "output_type": "execute_result"
    }
   ],
   "source": [
    "km.cluster_centers_"
   ]
  },
  {
   "cell_type": "code",
   "execution_count": 33,
   "metadata": {},
   "outputs": [],
   "source": [
    "y_pred=km.predict(X_test)"
   ]
  },
  {
   "cell_type": "code",
   "execution_count": 34,
   "metadata": {},
   "outputs": [
    {
     "name": "stdout",
     "output_type": "stream",
     "text": [
      "0.4134992727736708\n"
     ]
    }
   ],
   "source": [
    "\n",
    "scores={}\n",
    "from sklearn.metrics import silhouette_score\n",
    "scores['KMean']=silhouette_score(X_train,y_km)\n",
    "print(silhouette_score(X_train,y_km))\n"
   ]
  },
  {
   "cell_type": "code",
   "execution_count": 35,
   "metadata": {},
   "outputs": [],
   "source": [
    "#Checking the need for Paratameter optimizing (hyper parameter tuning) of n_clusters, \n",
    "import numpy as np\n",
    "distortion=[]\n",
    "for i in range(1,50,1):\n",
    "    km=KMeans(n_clusters=i)\n",
    "    y_km=km.fit_predict(X)\n",
    "    distortion.append(km.inertia_)"
   ]
  },
  {
   "cell_type": "code",
   "execution_count": 38,
   "metadata": {},
   "outputs": [
    {
     "data": {
      "image/png": "[encoded data removed]",
      "text/plain": [
       "<Figure size 432x288 with 1 Axes>"
      ]
     },
     "metadata": {},
     "output_type": "display_data"
    }
   ],
   "source": [
    "a=np.arange(1,50,1)\n",
    "plt.plot(a,distortion)\n",
    "plt.show()"
   ]
  },
  {
   "cell_type": "code",
   "execution_count": 39,
   "metadata": {},
   "outputs": [],
   "source": [
    "from sklearn.cluster import KMeans\n",
    "km=KMeans(n_clusters=3,max_iter=300,n_init = 10,random_state =0,tol=0.0001)\n",
    "y_km=km.fit_predict(X_train)\n"
   ]
  },
  {
   "cell_type": "code",
   "execution_count": 40,
   "metadata": {},
   "outputs": [
    {
     "data": {
      "image/png": "[encoded data removed]",
      "text/plain": [
       "<Figure size 432x288 with 1 Axes>"
      ]
     },
     "metadata": {},
     "output_type": "display_data"
    }
   ],
   "source": [
    "import matplotlib.pyplot as plt\n",
    "%matplotlib inline\n",
    "plt.scatter(pp[y_km == 0, 0],pp[y_km == 0, 1],s = 100,c ='red',label = 'GRADE O')\n",
    "plt.scatter(pp[y_km == 1, 0],pp[y_km == 1, 1],s = 100,c ='blue',label = 'GRADE A')\n",
    "plt.scatter(pp[y_km == 2, 0],pp[y_km == 2, 1],s = 100,c ='green',label = 'GRADE B')\n",
    "plt.scatter(km.cluster_centers_[:,0],km.cluster_centers_[:,1], s = 300, c = 'yellow',label = 'Centroids')\n",
    "\n",
    "plt.title('Grades Of Students')\n",
    "plt.xlabel('CA M0arks')\n",
    "plt.ylabel('Mid Term Marks')\n",
    "plt.legend()\n",
    "plt.show()"
   ]
  },
  {
   "cell_type": "code",
   "execution_count": null,
   "metadata": {},
   "outputs": [],
   "source": []
  }
 ],
 "metadata": {
  "kernelspec": {
   "display_name": "Python 3",
   "language": "python",
   "name": "python3"
  },
  "language_info": {
   "codemirror_mode": {
    "name": "ipython",
    "version": 3
   },
   "file_extension": ".py",
   "mimetype": "text/x-python",
   "name": "python",
   "nbconvert_exporter": "python",
   "pygments_lexer": "ipython3",
   "version": "3.6.5"
  }
 },
 "nbformat": 4,
 "nbformat_minor": 2
}
